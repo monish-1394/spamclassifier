{
  "nbformat": 4,
  "nbformat_minor": 0,
  "metadata": {
    "colab": {
      "provenance": [],
      "mount_file_id": "1oJecAFoTv82IY08LnGgSN8PDiNEjyVl5",
      "authorship_tag": "ABX9TyMSs0sE9E6Q6I+wKwbLExA6",
      "include_colab_link": true
    },
    "kernelspec": {
      "name": "python3",
      "display_name": "Python 3"
    },
    "language_info": {
      "name": "python"
    }
  },
  "cells": [
    {
      "cell_type": "markdown",
      "metadata": {
        "id": "view-in-github",
        "colab_type": "text"
      },
      "source": [
        "<a href=\"https://colab.research.google.com/github/Arish005/spamclassifier/blob/main/spamclassifier.ipynb\" target=\"_parent\"><img src=\"https://colab.research.google.com/assets/colab-badge.svg\" alt=\"Open In Colab\"/></a>"
      ]
    },
    {
      "cell_type": "code",
      "source": [
        "!git clone https://github.com/Arish005/spamclassifier.git\n",
        "%cd spamclassifier\n"
      ],
      "metadata": {
        "id": "R4Fn4G_RkaJt",
        "outputId": "577ca691-63f3-42af-820b-43936de9598f",
        "colab": {
          "base_uri": "https://localhost:8080/"
        }
      },
      "execution_count": 5,
      "outputs": [
        {
          "output_type": "stream",
          "name": "stdout",
          "text": [
            "Cloning into 'spamclassifier'...\n",
            "remote: Enumerating objects: 15, done.\u001b[K\n",
            "remote: Counting objects: 100% (15/15), done.\u001b[K\n",
            "remote: Compressing objects: 100% (13/13), done.\u001b[K\n",
            "remote: Total 15 (delta 5), reused 0 (delta 0), pack-reused 0\u001b[K\n",
            "Receiving objects: 100% (15/15), 208.75 KiB | 8.03 MiB/s, done.\n",
            "Resolving deltas: 100% (5/5), done.\n",
            "/content/spamclassifier/spamclassifier\n"
          ]
        }
      ]
    },
    {
      "cell_type": "code",
      "execution_count": 8,
      "metadata": {
        "colab": {
          "base_uri": "https://localhost:8080/"
        },
        "id": "9MBLTSzpSW0q",
        "outputId": "c438a817-b08d-4dcb-cd14-67a51685c36e"
      },
      "outputs": [
        {
          "output_type": "stream",
          "name": "stdout",
          "text": [
            "Accuracy: 0.9739910313901345\n",
            "Predicted Class: [0]\n",
            "Spam mail\n"
          ]
        }
      ],
      "source": [
        "import numpy as np\n",
        "import pandas as pd\n",
        "from sklearn.model_selection import train_test_split\n",
        "from sklearn.feature_extraction.text import TfidfVectorizer\n",
        "from sklearn.linear_model import LogisticRegression\n",
        "from sklearn.metrics import accuracy_score\n",
        "\n",
        "df = pd.read_csv('/content/spamclassifier/mail_data.csv')\n",
        "\n",
        "df = df.fillna(' ')\n",
        "\n",
        "df['Category'] = df['Category'].map({'spam': 0, 'ham': 1})\n",
        "\n",
        "df['Category'] = df['Category'].astype(int)\n",
        "\n",
        "X = df['Message']\n",
        "Y = df['Category']\n",
        "\n",
        "X_train, X_test, Y_train, Y_test = train_test_split(X, Y, test_size=0.2, random_state=42)\n",
        "\n",
        "tfidf_vectorizer = TfidfVectorizer(max_features=5000)\n",
        "X_train_tfidf = tfidf_vectorizer.fit_transform(X_train)\n",
        "X_test_tfidf = tfidf_vectorizer.transform(X_test)\n",
        "\n",
        "lr_classifier = LogisticRegression()\n",
        "lr_classifier.fit(X_train_tfidf, Y_train)\n",
        "\n",
        "Y_pred = lr_classifier.predict(X_test_tfidf)\n",
        "\n",
        "accuracy = accuracy_score(Y_test, Y_pred)\n",
        "print(\"Accuracy:\", accuracy)\n",
        "\n",
        "input_your_mail = [\"This is the 2nd time we have tried to contact you. You have won the Rs.6 lakhs prize. 2 claim is easy, just call 098789989 NOW! Only 10p per minute. BT-national-rate\"]\n",
        "\n",
        "input_data_features = tfidf_vectorizer.transform(input_your_mail)\n",
        "\n",
        "prediction = lr_classifier.predict(input_data_features)\n",
        "\n",
        "print(\"Predicted Class:\", prediction)\n",
        "\n",
        "if(prediction[0] == 1):\n",
        "    print('not a spam mail')\n",
        "\n",
        "else:\n",
        "    print('Spam mail')\n"
      ]
    },
    {
      "cell_type": "markdown",
      "source": [],
      "metadata": {
        "id": "E7ErFrGhVzmJ"
      }
    },
    {
      "cell_type": "code",
      "source": [],
      "metadata": {
        "id": "OM_rYq5ySp-v"
      },
      "execution_count": null,
      "outputs": []
    }
  ]
}